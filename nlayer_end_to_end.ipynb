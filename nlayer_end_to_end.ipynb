{
 "cells": [
  {
   "cell_type": "code",
   "execution_count": 17,
   "metadata": {
    "collapsed": true
   },
   "outputs": [],
   "source": [
    "import cPickle\n",
    "import numpy as np\n",
    "import matplotlib.pyplot as plt\n",
    "\n",
    "%matplotlib inline\n",
    "plt.rcParams['figure.figsize'] = (10.0, 8.0) # set default size of plots\n",
    "plt.rcParams['image.interpolation'] = 'nearest'\n",
    "plt.rcParams['image.cmap'] = 'gray'\n",
    "\n",
    "%load_ext autoreload\n",
    "%autoreload 2"
   ]
  },
  {
   "cell_type": "code",
   "execution_count": 35,
   "metadata": {
    "collapsed": false
   },
   "outputs": [
    {
     "name": "stdout",
     "output_type": "stream",
     "text": [
      "(50000, 784)\n",
      "(10000, 784)\n",
      "(10000, 784)\n"
     ]
    }
   ],
   "source": [
    "mnist = cPickle.load(open(\"/large/data/mnist.pkl\", \"rb\"))\n",
    "\n",
    "(train, validation, test) = mnist\n",
    "(train_images, train_labels) = train\n",
    "(validation_images, validation_labels) = validation\n",
    "(test_images, test_labels) = test\n",
    "\n",
    "image_size = 28\n",
    "features_size = 784\n",
    "classes_count = 10\n",
    "\n",
    "print train_images.shape\n",
    "print validation_images.shape\n",
    "print test_images.shape"
   ]
  },
  {
   "cell_type": "code",
   "execution_count": 36,
   "metadata": {
    "collapsed": false
   },
   "outputs": [
    {
     "data": {
      "image/png": "[encoded data removed]",
      "text/plain": [
       "<matplotlib.figure.Figure at 0x7fd22542c710>"
      ]
     },
     "metadata": {},
     "output_type": "display_data"
    }
   ],
   "source": [
    "for i in xrange(10):\n",
    "    plt.subplot(1, 10, i + 1)\n",
    "    plt.title(str(train_labels[i]))\n",
    "    plt.imshow(train_images[i].reshape((image_size, image_size)))\n",
    "    plt.axis('off')"
   ]
  },
  {
   "cell_type": "code",
   "execution_count": 130,
   "metadata": {
    "collapsed": false
   },
   "outputs": [
    {
     "name": "stdout",
     "output_type": "stream",
     "text": [
      "epoch 0: accuracy = 0.135000, loss = 76.515578\n",
      "epoch 100: accuracy = 0.095000, loss = 19.129421\n",
      "epoch 200: accuracy = 0.115000, loss = 19.300669\n",
      "epoch 300: accuracy = 0.080000, loss = 19.356283\n",
      "epoch 400: accuracy = 0.120000, loss = 19.635340\n",
      "epoch 500: accuracy = 0.095000, loss = 18.988358\n",
      "epoch 600: accuracy = 0.155000, loss = 19.269745\n",
      "epoch 700: accuracy = 0.105000, loss = 19.098026\n",
      "epoch 800: accuracy = 0.120000, loss = 19.068452\n",
      "epoch 900: accuracy = 0.125000, loss = 18.950673\n"
     ]
    }
   ],
   "source": [
    "hidden_neurons = 100\n",
    "minibatch_size = 200\n",
    "regularization_factor = 0.1\n",
    "learning_rate = 1e-5\n",
    "\n",
    "# 3 relu layers, 1 output softmax layer\n",
    "W1 = np.random.uniform(high = 0.1, size = (features_size, hidden_neurons))\n",
    "b1 = np.random.uniform(high = 0.1, size = (hidden_neurons,))\n",
    "W2 = np.random.uniform(high = 0.1, size = (hidden_neurons, hidden_neurons))\n",
    "b2 = np.random.uniform(high = 0.1, size = (hidden_neurons,))\n",
    "W3 = np.random.uniform(high = 0.1, size = (hidden_neurons, hidden_neurons))\n",
    "b3 = np.random.uniform(high = 0.1, size = (hidden_neurons,))\n",
    "W4 = np.random.uniform(high = 0.1, size = (hidden_neurons, classes_count))\n",
    "b4 = np.random.uniform(high = 0.1, size = (classes_count,))\n",
    "\n",
    "for epoch in range(1000):\n",
    "    choice = np.random.choice(train_images.shape[0], minibatch_size)\n",
    "    X = train_images[choice]\n",
    "    y = train_labels[choice]\n",
    "    \n",
    "    # forward pass\n",
    "    H1 = np.maximum(np.dot(X, W1) + b1, 0)\n",
    "    H2 = np.maximum(np.dot(H1, W2) + b2, 0)\n",
    "    H3 = np.maximum(np.dot(H2, W3) + b3, 0)\n",
    "    H4 = np.dot(H3, W4) + b4\n",
    "\n",
    "    scores = H4 - np.max(H4, axis = 1, keepdims = True)\n",
    "    probs = np.exp(scores)\n",
    "    probs /= np.sum(probs, axis = 1, keepdims = True)\n",
    "    labels = np.argmax(probs, axis = 1)\n",
    "\n",
    "    accuracy = np.mean(labels == y)    \n",
    "\n",
    "    loss = np.sum(-np.log(probs[range(minibatch_size), y])) / minibatch_size\n",
    "    loss += 0.5 * regularization_factor * (np.sum(W1 * W1) + np.sum(b1 * b1))\n",
    "    loss += 0.5 * regularization_factor * (np.sum(W2 * W2) + np.sum(b2 * b2))\n",
    "    loss += 0.5 * regularization_factor * (np.sum(W3 * W3) + np.sum(b3 * b3))\n",
    "    loss += 0.5 * regularization_factor * (np.sum(W4 * W4) + np.sum(b4 * b4))\n",
    "\n",
    "    if epoch % 100 == 0: print 'epoch %d: accuracy = %f, loss = %f' % (epoch, accuracy, loss)\n",
    "            \n",
    "    # backprop\n",
    "    dscores = np.array(probs)\n",
    "    dscores[range(minibatch_size), y] -= 1\n",
    "    dscores /= minibatch_size\n",
    "    \n",
    "    dW4 = np.dot(H3.T, dscores)\n",
    "    db4 = np.sum(dscores, axis = 0, keepdims = True)\n",
    "    dW4 += regularization_factor * W4\n",
    "    db4 += regularization_factor * b4\n",
    "   \n",
    "    W4 += - learning_rate * dW4\n",
    "    b4 += - learning_rate * b4\n"
   ]
  },
  {
   "cell_type": "code",
   "execution_count": null,
   "metadata": {
    "collapsed": true
   },
   "outputs": [],
   "source": []
  },
  {
   "cell_type": "code",
   "execution_count": null,
   "metadata": {
    "collapsed": true
   },
   "outputs": [],
   "source": []
  }
 ],
 "metadata": {
  "kernelspec": {
   "display_name": "Python 2",
   "language": "python",
   "name": "python2"
  },
  "language_info": {
   "codemirror_mode": {
    "name": "ipython",
    "version": 2
   },
   "file_extension": ".py",
   "mimetype": "text/x-python",
   "name": "python",
   "nbconvert_exporter": "python",
   "pygments_lexer": "ipython2",
   "version": "2.7.12"
  }
 },
 "nbformat": 4,
 "nbformat_minor": 0
}
