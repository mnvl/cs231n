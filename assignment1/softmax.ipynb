{
 "cells": [
  {
   "cell_type": "markdown",
   "metadata": {},
   "source": [
    "# Softmax exercise\n",
    "\n",
    "*Complete and hand in this completed worksheet (including its outputs and any supporting code outside of the worksheet) with your assignment submission. For more details see the [assignments page](http://vision.stanford.edu/teaching/cs231n/assignments.html) on the course website.*\n",
    "\n",
    "This exercise is analogous to the SVM exercise. You will:\n",
    "\n",
    "- implement a fully-vectorized **loss function** for the Softmax classifier\n",
    "- implement the fully-vectorized expression for its **analytic gradient**\n",
    "- **check your implementation** with numerical gradient\n",
    "- use a validation set to **tune the learning rate and regularization** strength\n",
    "- **optimize** the loss function with **SGD**\n",
    "- **visualize** the final learned weights\n"
   ]
  },
  {
   "cell_type": "code",
   "execution_count": 1,
   "metadata": {
    "collapsed": false
   },
   "outputs": [],
   "source": [
    "import random\n",
    "import numpy as np\n",
    "from cs231n.data_utils import load_CIFAR10\n",
    "import matplotlib.pyplot as plt\n",
    "%matplotlib inline\n",
    "plt.rcParams['figure.figsize'] = (10.0, 8.0) # set default size of plots\n",
    "plt.rcParams['image.interpolation'] = 'nearest'\n",
    "plt.rcParams['image.cmap'] = 'gray'\n",
    "\n",
    "# for auto-reloading extenrnal modules\n",
    "# see http://stackoverflow.com/questions/1907993/autoreload-of-modules-in-ipython\n",
    "%load_ext autoreload\n",
    "%autoreload 2"
   ]
  },
  {
   "cell_type": "code",
   "execution_count": 2,
   "metadata": {
    "collapsed": false
   },
   "outputs": [
    {
     "name": "stdout",
     "output_type": "stream",
     "text": [
      "Train data shape:  (49000, 3073)\n",
      "Train labels shape:  (49000,)\n",
      "Validation data shape:  (1000, 3073)\n",
      "Validation labels shape:  (1000,)\n",
      "Test data shape:  (1000, 3073)\n",
      "Test labels shape:  (1000,)\n",
      "dev data shape:  (500, 3073)\n",
      "dev labels shape:  (500,)\n"
     ]
    }
   ],
   "source": [
    "def get_CIFAR10_data(num_training=49000, num_validation=1000, num_test=1000, num_dev=500):\n",
    "  \"\"\"\n",
    "  Load the CIFAR-10 dataset from disk and perform preprocessing to prepare\n",
    "  it for the linear classifier. These are the same steps as we used for the\n",
    "  SVM, but condensed to a single function.  \n",
    "  \"\"\"\n",
    "  # Load the raw CIFAR-10 data\n",
    "  cifar10_dir = 'cs231n/datasets/cifar-10-batches-py'\n",
    "  X_train, y_train, X_test, y_test = load_CIFAR10(cifar10_dir)\n",
    "  \n",
    "  # subsample the data\n",
    "  mask = range(num_training, num_training + num_validation)\n",
    "  X_val = X_train[mask]\n",
    "  y_val = y_train[mask]\n",
    "  mask = range(num_training)\n",
    "  X_train = X_train[mask]\n",
    "  y_train = y_train[mask]\n",
    "  mask = range(num_test)\n",
    "  X_test = X_test[mask]\n",
    "  y_test = y_test[mask]\n",
    "  mask = np.random.choice(num_training, num_dev, replace=False)\n",
    "  X_dev = X_train[mask]\n",
    "  y_dev = y_train[mask]\n",
    "  \n",
    "  # Preprocessing: reshape the image data into rows\n",
    "  X_train = np.reshape(X_train, (X_train.shape[0], -1))\n",
    "  X_val = np.reshape(X_val, (X_val.shape[0], -1))\n",
    "  X_test = np.reshape(X_test, (X_test.shape[0], -1))\n",
    "  X_dev = np.reshape(X_dev, (X_dev.shape[0], -1))\n",
    "  \n",
    "  # Normalize the data: subtract the mean image\n",
    "  mean_image = np.mean(X_train, axis = 0)\n",
    "  X_train -= mean_image\n",
    "  X_val -= mean_image\n",
    "  X_test -= mean_image\n",
    "  X_dev -= mean_image\n",
    "  \n",
    "  # add bias dimension and transform into columns\n",
    "  X_train = np.hstack([X_train, np.ones((X_train.shape[0], 1))])\n",
    "  X_val = np.hstack([X_val, np.ones((X_val.shape[0], 1))])\n",
    "  X_test = np.hstack([X_test, np.ones((X_test.shape[0], 1))])\n",
    "  X_dev = np.hstack([X_dev, np.ones((X_dev.shape[0], 1))])\n",
    "  \n",
    "  return X_train, y_train, X_val, y_val, X_test, y_test, X_dev, y_dev\n",
    "\n",
    "\n",
    "# Invoke the above function to get our data.\n",
    "X_train, y_train, X_val, y_val, X_test, y_test, X_dev, y_dev = get_CIFAR10_data()\n",
    "print 'Train data shape: ', X_train.shape\n",
    "print 'Train labels shape: ', y_train.shape\n",
    "print 'Validation data shape: ', X_val.shape\n",
    "print 'Validation labels shape: ', y_val.shape\n",
    "print 'Test data shape: ', X_test.shape\n",
    "print 'Test labels shape: ', y_test.shape\n",
    "print 'dev data shape: ', X_dev.shape\n",
    "print 'dev labels shape: ', y_dev.shape"
   ]
  },
  {
   "cell_type": "markdown",
   "metadata": {},
   "source": [
    "## Softmax Classifier\n",
    "\n",
    "Your code for this section will all be written inside **cs231n/classifiers/softmax.py**. \n"
   ]
  },
  {
   "cell_type": "code",
   "execution_count": 3,
   "metadata": {
    "collapsed": false
   },
   "outputs": [
    {
     "name": "stdout",
     "output_type": "stream",
     "text": [
      "loss: 2.324130\n",
      "sanity check: 2.302585\n"
     ]
    }
   ],
   "source": [
    "# First implement the naive softmax loss function with nested loops.\n",
    "# Open the file cs231n/classifiers/softmax.py and implement the\n",
    "# softmax_loss_naive function.\n",
    "\n",
    "from cs231n.classifiers.softmax import softmax_loss_naive\n",
    "import time\n",
    "\n",
    "# Generate a random softmax weight matrix and use it to compute the loss.\n",
    "W = np.random.randn(3073, 10) * 0.0001\n",
    "loss, grad = softmax_loss_naive(W, X_dev, y_dev, 0.0)\n",
    "\n",
    "# As a rough sanity check, our loss should be something close to -log(0.1).\n",
    "print 'loss: %f' % loss\n",
    "print 'sanity check: %f' % (-np.log(0.1))"
   ]
  },
  {
   "cell_type": "markdown",
   "metadata": {},
   "source": [
    "## Inline Question 1:\n",
    "Why do we expect our loss to be close to -log(0.1)? Explain briefly.**\n",
    "\n",
    "**Your answer:** *Fill this in*\n"
   ]
  },
  {
   "cell_type": "code",
   "execution_count": 4,
   "metadata": {
    "collapsed": false
   },
   "outputs": [
    {
     "name": "stdout",
     "output_type": "stream",
     "text": [
      "numerical: 2.398975 analytic: 2.398975, relative error: 3.146849e-08\n",
      "numerical: 0.414062 analytic: 0.414062, relative error: 3.289788e-08\n",
      "numerical: 1.145985 analytic: 1.145985, relative error: 1.601812e-08\n",
      "numerical: 1.280528 analytic: 1.280528, relative error: 5.612665e-08\n",
      "numerical: -1.907071 analytic: -1.907071, relative error: 1.149365e-08\n",
      "numerical: 3.150892 analytic: 3.150892, relative error: 1.674331e-08\n",
      "numerical: 1.856254 analytic: 1.856254, relative error: 2.343558e-08\n",
      "numerical: 0.240092 analytic: 0.240092, relative error: 2.280231e-07\n",
      "numerical: -1.670609 analytic: -1.670609, relative error: 1.769768e-08\n",
      "numerical: 2.655636 analytic: 2.655636, relative error: 2.480588e-08\n",
      "numerical: 0.112967 analytic: 0.112967, relative error: 2.910217e-07\n",
      "numerical: 0.647322 analytic: 0.647322, relative error: 5.519241e-08\n",
      "numerical: 0.081467 analytic: 0.081467, relative error: 9.071139e-07\n",
      "numerical: 1.699555 analytic: 1.699555, relative error: 2.075285e-08\n",
      "numerical: -0.793566 analytic: -0.793566, relative error: 5.304170e-08\n",
      "numerical: 3.880844 analytic: 3.880844, relative error: 8.672721e-09\n",
      "numerical: -1.194132 analytic: -1.194132, relative error: 3.857070e-09\n",
      "numerical: -1.285956 analytic: -1.285956, relative error: 5.095146e-08\n",
      "numerical: -0.942189 analytic: -0.942189, relative error: 2.366989e-08\n",
      "numerical: 2.466152 analytic: 2.466152, relative error: 1.844350e-08\n"
     ]
    }
   ],
   "source": [
    "# Complete the implementation of softmax_loss_naive and implement a (naive)\n",
    "# version of the gradient that uses nested loops.\n",
    "loss, grad = softmax_loss_naive(W, X_dev, y_dev, 0.0)\n",
    "\n",
    "# As we did for the SVM, use numeric gradient checking as a debugging tool.\n",
    "# The numeric gradient should be close to the analytic gradient.\n",
    "from cs231n.gradient_check import grad_check_sparse\n",
    "f = lambda w: softmax_loss_naive(w, X_dev, y_dev, 0.0)[0]\n",
    "grad_numerical = grad_check_sparse(f, W, grad, 10)\n",
    "\n",
    "# similar to SVM case, do another gradient check with regularization\n",
    "loss, grad = softmax_loss_naive(W, X_dev, y_dev, 1e2)\n",
    "f = lambda w: softmax_loss_naive(w, X_dev, y_dev, 1e2)[0]\n",
    "grad_numerical = grad_check_sparse(f, W, grad, 10)"
   ]
  },
  {
   "cell_type": "code",
   "execution_count": 5,
   "metadata": {
    "collapsed": false
   },
   "outputs": [
    {
     "name": "stdout",
     "output_type": "stream",
     "text": [
      "naive loss: 2.324130e+00 computed in 0.081943s\n",
      "vectorized loss: 2.324130e+00 computed in 0.102795s\n",
      "Loss difference: 0.000000\n",
      "Gradient difference: 0.000000\n"
     ]
    }
   ],
   "source": [
    "# Now that we have a naive implementation of the softmax loss function and its gradient,\n",
    "# implement a vectorized version in softmax_loss_vectorized.\n",
    "# The two versions should compute the same results, but the vectorized version should be\n",
    "# much faster.\n",
    "tic = time.time()\n",
    "loss_naive, grad_naive = softmax_loss_naive(W, X_dev, y_dev, 0.00001)\n",
    "toc = time.time()\n",
    "print 'naive loss: %e computed in %fs' % (loss_naive, toc - tic)\n",
    "\n",
    "from cs231n.classifiers.softmax import softmax_loss_vectorized\n",
    "tic = time.time()\n",
    "loss_vectorized, grad_vectorized = softmax_loss_vectorized(W, X_dev, y_dev, 0.00001)\n",
    "toc = time.time()\n",
    "print 'vectorized loss: %e computed in %fs' % (loss_vectorized, toc - tic)\n",
    "\n",
    "# As we did for the SVM, we use the Frobenius norm to compare the two versions\n",
    "# of the gradient.\n",
    "grad_difference = np.linalg.norm(grad_naive - grad_vectorized, ord='fro')\n",
    "print 'Loss difference: %f' % np.abs(loss_naive - loss_vectorized)\n",
    "print 'Gradient difference: %f' % grad_difference"
   ]
  },
  {
   "cell_type": "code",
   "execution_count": 10,
   "metadata": {
    "collapsed": false
   },
   "outputs": [
    {
     "name": "stdout",
     "output_type": "stream",
     "text": [
      "iteration 0 / 1000: loss 157.453592\n",
      "iteration 100 / 1000: loss 127.056624\n",
      "iteration 200 / 1000: loss 103.968555\n",
      "iteration 300 / 1000: loss 85.013582\n",
      "iteration 400 / 1000: loss 69.661457\n",
      "iteration 500 / 1000: loss 57.141504\n",
      "iteration 600 / 1000: loss 47.126105\n",
      "iteration 700 / 1000: loss 38.964648\n",
      "iteration 800 / 1000: loss 32.087662\n",
      "iteration 900 / 1000: loss 26.577525\n",
      "iteration 0 / 1000: loss 1555.538855\n",
      "iteration 100 / 1000: loss 209.595238\n",
      "iteration 200 / 1000: loss 29.865681\n",
      "iteration 300 / 1000: loss 5.842234\n",
      "iteration 400 / 1000: loss 2.613031\n",
      "iteration 500 / 1000: loss 2.222962\n",
      "iteration 600 / 1000: loss 2.143920\n",
      "iteration 700 / 1000: loss 2.140711\n",
      "iteration 800 / 1000: loss 2.163503\n",
      "iteration 900 / 1000: loss 2.216416\n",
      "iteration 0 / 1000: loss 15240.672106\n",
      "iteration 100 / 1000: loss 2.262360\n",
      "iteration 200 / 1000: loss 2.268002\n",
      "iteration 300 / 1000: loss 2.272000\n",
      "iteration 400 / 1000: loss 2.271036\n",
      "iteration 500 / 1000: loss 2.270327\n",
      "iteration 600 / 1000: loss 2.265946\n",
      "iteration 700 / 1000: loss 2.279801\n",
      "iteration 800 / 1000: loss 2.252119\n",
      "iteration 900 / 1000: loss 2.276101\n",
      "iteration 0 / 1000: loss 160.488571\n",
      "iteration 100 / 1000: loss 58.562364\n",
      "iteration 200 / 1000: loss 22.457407\n",
      "iteration 300 / 1000: loss 9.360780\n",
      "iteration 400 / 1000: loss 4.612486\n",
      "iteration 500 / 1000: loss 2.908761\n",
      "iteration 600 / 1000: loss 2.257837\n",
      "iteration 700 / 1000: loss 2.065815\n",
      "iteration 800 / 1000: loss 2.014847\n",
      "iteration 900 / 1000: loss 1.921251\n",
      "iteration 0 / 1000: loss 1542.789852\n",
      "iteration 100 / 1000: loss 2.215673\n",
      "iteration 200 / 1000: loss 2.118625\n",
      "iteration 300 / 1000: loss 2.121935\n",
      "iteration 400 / 1000: loss 2.143852\n",
      "iteration 500 / 1000: loss 2.155513\n",
      "iteration 600 / 1000: loss 2.179234\n",
      "iteration 700 / 1000: loss 2.110446\n",
      "iteration 800 / 1000: loss 2.136320\n",
      "iteration 900 / 1000: loss 2.182944\n",
      "iteration 0 / 1000: loss 15512.070025\n",
      "iteration 100 / 1000: loss 2.280952\n",
      "iteration 200 / 1000: loss 2.268228\n",
      "iteration 300 / 1000: loss 2.255306\n",
      "iteration 400 / 1000: loss 2.275550\n",
      "iteration 500 / 1000: loss 2.289480\n",
      "iteration 600 / 1000: loss 2.281483\n",
      "iteration 700 / 1000: loss 2.286312\n",
      "iteration 800 / 1000: loss 2.262020\n",
      "iteration 900 / 1000: loss 2.263343\n",
      "lr 1.000000e-07 reg 1.000000e+04 train accuracy: 0.288653 val accuracy: 0.280000\n",
      "lr 1.000000e-07 reg 1.000000e+05 train accuracy: 0.307898 val accuracy: 0.332000\n",
      "lr 1.000000e-07 reg 1.000000e+06 train accuracy: 0.263102 val accuracy: 0.274000\n",
      "lr 5.000000e-07 reg 1.000000e+04 train accuracy: 0.370061 val accuracy: 0.383000\n",
      "lr 5.000000e-07 reg 1.000000e+05 train accuracy: 0.305020 val accuracy: 0.315000\n",
      "lr 5.000000e-07 reg 1.000000e+06 train accuracy: 0.271102 val accuracy: 0.285000\n",
      "best validation accuracy achieved during cross-validation: 0.383000\n"
     ]
    }
   ],
   "source": [
    "# Use the validation set to tune hyperparameters (regularization strength and\n",
    "# learning rate). You should experiment with different ranges for the learning\n",
    "# rates and regularization strengths; if you are careful you should be able to\n",
    "# get a classification accuracy of over 0.35 on the validation set.\n",
    "from cs231n.classifiers import Softmax\n",
    "results = {}\n",
    "best_val = -1\n",
    "best_softmax = None\n",
    "learning_rates = [1e-7, 5e-7]\n",
    "regularization_strengths = [1e4, 1e5, 1e6]\n",
    "\n",
    "################################################################################\n",
    "# TODO:                                                                        #\n",
    "# Use the validation set to set the learning rate and regularization strength. #\n",
    "# This should be identical to the validation that you did for the SVM; save    #\n",
    "# the best trained softmax classifer in best_softmax.                          #\n",
    "################################################################################\n",
    "for lr in learning_rates:\n",
    "    for rs in regularization_strengths:\n",
    "        softmax = Softmax()\n",
    "        loss_hist = softmax.train(X_train, y_train, learning_rate=lr, reg=rs,\n",
    "                      num_iters=1000, verbose=True)\n",
    "        train_accuracy = np.mean(y_train == softmax.predict(X_train))\n",
    "        validation_accuracy = np.mean(y_val == softmax.predict(X_val))\n",
    "        results[(lr, rs)] = (train_accuracy, validation_accuracy)\n",
    "        \n",
    "        if validation_accuracy > best_val:\n",
    "            best_val = validation_accuracy\n",
    "            best_softmax = softmax\n",
    "\n",
    "################################################################################\n",
    "#                              END OF YOUR CODE                                #\n",
    "################################################################################\n",
    "    \n",
    "# Print out results.\n",
    "for lr, reg in sorted(results):\n",
    "    train_accuracy, val_accuracy = results[(lr, reg)]\n",
    "    print 'lr %e reg %e train accuracy: %f val accuracy: %f' % (\n",
    "                lr, reg, train_accuracy, val_accuracy)\n",
    "    \n",
    "print 'best validation accuracy achieved during cross-validation: %f' % best_val"
   ]
  },
  {
   "cell_type": "code",
   "execution_count": 11,
   "metadata": {
    "collapsed": false
   },
   "outputs": [
    {
     "name": "stdout",
     "output_type": "stream",
     "text": [
      "softmax on raw pixels final test set accuracy: 0.366000\n"
     ]
    }
   ],
   "source": [
    "# evaluate on test set\n",
    "# Evaluate the best softmax on test set\n",
    "y_test_pred = best_softmax.predict(X_test)\n",
    "test_accuracy = np.mean(y_test == y_test_pred)\n",
    "print 'softmax on raw pixels final test set accuracy: %f' % (test_accuracy, )"
   ]
  },
  {
   "cell_type": "code",
   "execution_count": 12,
   "metadata": {
    "collapsed": false
   },
   "outputs": [
    {
     "data": {
      "image/png": "[encoded data removed]",
      "text/plain": [
       "<matplotlib.figure.Figure at 0x7fb213c96750>"
      ]
     },
     "metadata": {},
     "output_type": "display_data"
    }
   ],
   "source": [
    "# Visualize the learned weights for each class\n",
    "w = best_softmax.W[:-1,:] # strip out the bias\n",
    "w = w.reshape(32, 32, 3, 10)\n",
    "\n",
    "w_min, w_max = np.min(w), np.max(w)\n",
    "\n",
    "classes = ['plane', 'car', 'bird', 'cat', 'deer', 'dog', 'frog', 'horse', 'ship', 'truck']\n",
    "for i in xrange(10):\n",
    "  plt.subplot(2, 5, i + 1)\n",
    "  \n",
    "  # Rescale the weights to be between 0 and 255\n",
    "  wimg = 255.0 * (w[:, :, :, i].squeeze() - w_min) / (w_max - w_min)\n",
    "  plt.imshow(wimg.astype('uint8'))\n",
    "  plt.axis('off')\n",
    "  plt.title(classes[i])"
   ]
  },
  {
   "cell_type": "code",
   "execution_count": null,
   "metadata": {
    "collapsed": true
   },
   "outputs": [],
   "source": []
  }
 ],
 "metadata": {
  "kernelspec": {
   "display_name": "Python 2",
   "language": "python",
   "name": "python2"
  },
  "language_info": {
   "codemirror_mode": {
    "name": "ipython",
    "version": 2
   },
   "file_extension": ".py",
   "mimetype": "text/x-python",
   "name": "python",
   "nbconvert_exporter": "python",
   "pygments_lexer": "ipython2",
   "version": "2.7.12"
  }
 },
 "nbformat": 4,
 "nbformat_minor": 0
}
